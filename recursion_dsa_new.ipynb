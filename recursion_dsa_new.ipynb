{
 "cells": [
  {
   "cell_type": "markdown",
   "id": "bc6edb9d-7d45-4449-a310-d7ec9d3f9ae0",
   "metadata": {},
   "source": [
    "Q.1 Can you explain the logic and working of the Tower of Hanoi algorithm by writing a Java program? \n",
    "How does the recursion work, and how are the movements of disks between rods accomplished?"
   ]
  },
  {
   "cell_type": "code",
   "execution_count": 10,
   "id": "918691e9-652a-4eea-af9e-3535c62361c6",
   "metadata": {},
   "outputs": [],
   "source": [
    "def moves(n,s,d,a):\n",
    "    if n==1:\n",
    "        return 1\n",
    "    return moves(n-1,s,a,d) + 1 + moves(n-1,a,d,s)"
   ]
  },
  {
   "cell_type": "code",
   "execution_count": 15,
   "id": "29de12a0-d43b-40fc-b2a4-2ae5ccf0c0bc",
   "metadata": {},
   "outputs": [
    {
     "data": {
      "text/plain": [
       "7"
      ]
     },
     "execution_count": 15,
     "metadata": {},
     "output_type": "execute_result"
    }
   ],
   "source": [
    "moves(3,\"start\",\"destination\",\"auxiliary\")"
   ]
  },
  {
   "cell_type": "markdown",
   "id": "5dceaf86-7f86-4410-95fc-0d3efd0b114f",
   "metadata": {},
   "source": [
    " OR"
   ]
  },
  {
   "cell_type": "code",
   "execution_count": 2,
   "id": "16645aeb-02f1-4e08-902f-b9f4046ce4d8",
   "metadata": {},
   "outputs": [],
   "source": [
    "def tower_of_hanoi(n, source, destination, auxiliary):\n",
    "    if n == 1:\n",
    "        print(f\"Move disk {n} from {source} to {destination}\")\n",
    "        return\n",
    "    tower_of_hanoi(n - 1, source, auxiliary, destination)\n",
    "    print(f\"Move disk {n} from {source} to {destination}\")\n",
    "    tower_of_hanoi(n - 1, auxiliary, destination, source)\n"
   ]
  },
  {
   "cell_type": "code",
   "execution_count": 3,
   "id": "57baddce-b21b-4ff0-ab0b-a8c6566dd5d8",
   "metadata": {},
   "outputs": [
    {
     "name": "stdout",
     "output_type": "stream",
     "text": [
      "Move disk 1 from A to C\n",
      "Move disk 2 from A to B\n",
      "Move disk 1 from C to B\n",
      "Move disk 3 from A to C\n",
      "Move disk 1 from B to A\n",
      "Move disk 2 from B to C\n",
      "Move disk 1 from A to C\n"
     ]
    }
   ],
   "source": [
    "n = 3\n",
    "tower_of_hanoi(n, 'A', 'C', 'B')\n"
   ]
  },
  {
   "cell_type": "code",
   "execution_count": null,
   "id": "89dd5c37-73d6-44c7-90b9-c955088aefcc",
   "metadata": {},
   "outputs": [],
   "source": []
  },
  {
   "cell_type": "markdown",
   "id": "c01d9fac-1185-47ac-ada4-9d0b79d4127f",
   "metadata": {},
   "source": [
    "Q.2 Given two strings word1 and word2, return the minimum number of operations required to convert word1 \n",
    "\n",
    "to word2.\n",
    "\n",
    "Example 1:\n",
    "\n",
    " Input: word1 = \"horse\", word2 = \"ros\"\n",
    "\n",
    " Output: 3\n",
    "\n",
    " Explanation: \n",
    "\n",
    " horse -> rorse (replace 'h' with 'r')\n",
    "\n",
    " rorse -> rose (remove 'r')\n",
    "\n",
    " rose -> ros (remove 'e')\n",
    "\n",
    "Example 2:\n",
    "\n",
    " Input: word1 = \"intention\", word2 = \"execution\"\n",
    "\n",
    " Output: 5\n",
    "\n",
    " Explanation: \n",
    "\n",
    " intention -> inention (remove 't')\n",
    "\n",
    " inention -> enention (replace 'i' with 'e')\n",
    "\n",
    " enention -> exention (replace 'n' with 'x')\n",
    "\n",
    " exention -> exection (replace 'n' with 'c')\n",
    "\n",
    " exection -> execution (insert 'u')"
   ]
  },
  {
   "cell_type": "code",
   "execution_count": null,
   "id": "fe155547-f915-4eb8-a366-f1476504833c",
   "metadata": {},
   "outputs": [],
   "source": [
    "def minDistanceRecursive(word1, word2):\n",
    "    if not word1: \n",
    "        return len(word2)\n",
    "    if not word2: \n",
    "        return len(word1)\n",
    "\n",
    "    if word1[0] == word2[0]:  \n",
    "        return minDistanceRecursive(word1[1:], word2[1:])\n",
    "    else:\n",
    "        insert = 1 + minDistanceRecursive(word1, word2[1:])\n",
    "        delete = 1 + minDistanceRecursive(word1[1:], word2)\n",
    "        replace = 1 + minDistanceRecursive(word1[1:], word2[1:])\n",
    "        return min(insert, delete, replace)\n"
   ]
  },
  {
   "cell_type": "code",
   "execution_count": 24,
   "id": "e83fc672-4aef-422a-bcee-4bbb1c7d0ec7",
   "metadata": {},
   "outputs": [
    {
     "data": {
      "text/plain": [
       "5"
      ]
     },
     "execution_count": 24,
     "metadata": {},
     "output_type": "execute_result"
    }
   ],
   "source": [
    "minDistanceRecursive(\"intention\", \"execution\")"
   ]
  },
  {
   "cell_type": "code",
   "execution_count": 25,
   "id": "9b210aae-8a03-4ad8-a539-b7a02b732b26",
   "metadata": {},
   "outputs": [
    {
     "data": {
      "text/plain": [
       "3"
      ]
     },
     "execution_count": 25,
     "metadata": {},
     "output_type": "execute_result"
    }
   ],
   "source": [
    "minDistanceRecursive(\"horse\",\"ros\")"
   ]
  },
  {
   "cell_type": "code",
   "execution_count": null,
   "id": "1a5af136-a130-4988-8d42-55894c22dbc4",
   "metadata": {},
   "outputs": [],
   "source": []
  },
  {
   "cell_type": "markdown",
   "id": "ae2061e8-1a93-4759-8c94-707b5222fc57",
   "metadata": {},
   "source": [
    "Q. 3 Print the max value of the array [ 13, 1, -3, 22, 5]."
   ]
  },
  {
   "cell_type": "code",
   "execution_count": 4,
   "id": "9ca5d449-a2b8-4e33-afc6-862b50372d32",
   "metadata": {},
   "outputs": [],
   "source": [
    "def find_max(arr, n):\n",
    "    ''' arr = array \n",
    "    n = length of the array\n",
    "    return, Maximun value of the given list'''\n",
    "    if len(arr) == 1:\n",
    "        return arr[0]\n",
    "    else:\n",
    "        rest_max = find_max(arr[1:], n-1)\n",
    "        return max(arr[0], rest_max)"
   ]
  },
  {
   "cell_type": "code",
   "execution_count": 2,
   "id": "7dde8ff3-3c4a-4a7e-928c-e0ee73e27e41",
   "metadata": {},
   "outputs": [
    {
     "data": {
      "text/plain": [
       "22"
      ]
     },
     "execution_count": 2,
     "metadata": {},
     "output_type": "execute_result"
    }
   ],
   "source": [
    "find_max( [ 13, 1, -3, 22, 5], 5)"
   ]
  },
  {
   "cell_type": "code",
   "execution_count": null,
   "id": "08a10d5b-9a18-40de-a5ad-5daba55744fe",
   "metadata": {},
   "outputs": [],
   "source": []
  },
  {
   "cell_type": "markdown",
   "id": "4bc5092d-3af9-4a9d-b706-b70b3249e6b1",
   "metadata": {},
   "source": [
    "Q.4 Find the sum of the values of the array [92, 23, 15, -20, 10]."
   ]
  },
  {
   "cell_type": "code",
   "execution_count": 19,
   "id": "e1ee0f02-4da2-4d85-a192-f73cbb01c944",
   "metadata": {},
   "outputs": [],
   "source": [
    "def find_sum(arr):\n",
    "    if len(arr) == 1:\n",
    "        return arr[0]\n",
    "    else:\n",
    "        return arr[0] + find_sum(arr[1:])"
   ]
  },
  {
   "cell_type": "code",
   "execution_count": 20,
   "id": "098ec15d-ae3c-4246-81c5-fa0b5a06508a",
   "metadata": {},
   "outputs": [
    {
     "data": {
      "text/plain": [
       "120"
      ]
     },
     "execution_count": 20,
     "metadata": {},
     "output_type": "execute_result"
    }
   ],
   "source": [
    "find_sum([92, 23, 15, -20, 10])"
   ]
  },
  {
   "cell_type": "code",
   "execution_count": null,
   "id": "3bd7a3b2-ae17-4996-8265-3ae373e11a1e",
   "metadata": {},
   "outputs": [],
   "source": []
  },
  {
   "cell_type": "markdown",
   "id": "c4f32d64-b225-4815-bb04-f8bed9de2ddf",
   "metadata": {},
   "source": [
    "Q.5 Given a number n. Print if it is an armstrong number or not.An armstrong number is a number if the sum of every digit in that number raised to the power of total digits in that number is equal to the number.\n",
    "\n",
    "Example : 153 = 1^3 + 5^3 + 3^3 = 1 + 125 + 27 = 153 hence 153 is an armstrong number. (Easy)\n",
    "\n",
    "Input1 : 153\n",
    "Output1 : Yes\n",
    "\n",
    "Input 2 : 134\n",
    "Output2 : No"
   ]
  },
  {
   "cell_type": "code",
   "execution_count": 21,
   "id": "6db218f1-3b01-44db-a3ac-00282fe8ab53",
   "metadata": {},
   "outputs": [
    {
     "name": "stdout",
     "output_type": "stream",
     "text": [
      "153 is an Armstrong number.\n"
     ]
    }
   ],
   "source": [
    "def is_armstrong(n):\n",
    "  def calculate_digit_sum(num, power):\n",
    "    if num == 0:\n",
    "      return 0\n",
    "    return (num % 10) ** power + calculate_digit_sum(num // 10, power)\n",
    "\n",
    "  num_digits = 0\n",
    "  temp = n\n",
    "  while temp != 0:\n",
    "    num_digits += 1\n",
    "    temp //= 10\n",
    "\n",
    "  digit_sum = calculate_digit_sum(n, num_digits)\n",
    "\n",
    "  return digit_sum == n\n",
    "\n",
    "# Example\n",
    "number = 153\n",
    "if is_armstrong(number):\n",
    "  print(f\"{number} is an Armstrong number.\")\n",
    "else:\n",
    "  print(f\"{number} is not an Armstrong number.\")\n"
   ]
  },
  {
   "cell_type": "code",
   "execution_count": null,
   "id": "d4a8fdef-dc6d-45cb-898f-52ae6aa12288",
   "metadata": {},
   "outputs": [],
   "source": []
  },
  {
   "cell_type": "code",
   "execution_count": null,
   "id": "a88a5b6b-0073-4b70-afb8-5778e72e4553",
   "metadata": {},
   "outputs": [],
   "source": []
  },
  {
   "cell_type": "code",
   "execution_count": null,
   "id": "a05c1794-33c0-4c10-b7ae-26826ec939a9",
   "metadata": {},
   "outputs": [],
   "source": []
  },
  {
   "cell_type": "code",
   "execution_count": null,
   "id": "9476546d-f3d2-4934-89d8-9e5c81d43fee",
   "metadata": {},
   "outputs": [],
   "source": []
  },
  {
   "cell_type": "code",
   "execution_count": null,
   "id": "1855f1a4-f14b-4a0d-be7c-584d72965acc",
   "metadata": {},
   "outputs": [],
   "source": []
  },
  {
   "cell_type": "code",
   "execution_count": null,
   "id": "5a39df32-56fc-45c1-bad1-4bde17c4468b",
   "metadata": {},
   "outputs": [],
   "source": []
  },
  {
   "cell_type": "code",
   "execution_count": null,
   "id": "f4b29d23-c35a-4005-ba2d-ce40c73a340d",
   "metadata": {},
   "outputs": [],
   "source": []
  },
  {
   "cell_type": "code",
   "execution_count": null,
   "id": "4511a2e7-c37f-42ca-83f8-ef6bafd0591d",
   "metadata": {},
   "outputs": [],
   "source": []
  },
  {
   "cell_type": "code",
   "execution_count": null,
   "id": "37421945-c02c-4e57-8a2c-e5564f4a5db2",
   "metadata": {},
   "outputs": [],
   "source": []
  },
  {
   "cell_type": "code",
   "execution_count": null,
   "id": "5f0a9b48-7d73-4870-93ca-a1b3effb7647",
   "metadata": {},
   "outputs": [],
   "source": []
  },
  {
   "cell_type": "code",
   "execution_count": null,
   "id": "a635b3da-8c18-41bc-8200-ef6e92982003",
   "metadata": {},
   "outputs": [],
   "source": []
  },
  {
   "cell_type": "code",
   "execution_count": null,
   "id": "7b4ef749-ad2d-4a26-9ed0-36e07fee0b9a",
   "metadata": {},
   "outputs": [],
   "source": []
  },
  {
   "cell_type": "code",
   "execution_count": null,
   "id": "c908327a-6890-4c04-a081-0dd117507c5f",
   "metadata": {},
   "outputs": [],
   "source": []
  },
  {
   "cell_type": "code",
   "execution_count": null,
   "id": "e2639dec-c3a3-40d6-a5ce-9152f2f5763a",
   "metadata": {},
   "outputs": [],
   "source": []
  },
  {
   "cell_type": "code",
   "execution_count": null,
   "id": "70910e58-45c7-4ed6-bb0e-030c1d30ab7a",
   "metadata": {},
   "outputs": [],
   "source": []
  },
  {
   "cell_type": "code",
   "execution_count": null,
   "id": "ae934753-4f98-454b-bd91-666dc9bee275",
   "metadata": {},
   "outputs": [],
   "source": []
  },
  {
   "cell_type": "code",
   "execution_count": null,
   "id": "d15a9016-4156-4cda-988c-5f215eaf8c70",
   "metadata": {},
   "outputs": [],
   "source": []
  },
  {
   "cell_type": "code",
   "execution_count": null,
   "id": "4a698000-c167-4fdd-b3e7-624023757460",
   "metadata": {},
   "outputs": [],
   "source": []
  },
  {
   "cell_type": "code",
   "execution_count": null,
   "id": "6647e3ff-3297-4183-b334-a0c742886365",
   "metadata": {},
   "outputs": [],
   "source": []
  },
  {
   "cell_type": "code",
   "execution_count": null,
   "id": "74beabd3-7819-486e-a744-8807f85eff6c",
   "metadata": {},
   "outputs": [],
   "source": []
  },
  {
   "cell_type": "code",
   "execution_count": null,
   "id": "e6a0936a-c1c5-4dd3-b396-1158db4ba57c",
   "metadata": {},
   "outputs": [],
   "source": []
  },
  {
   "cell_type": "code",
   "execution_count": null,
   "id": "e6901b22-5a82-4b1b-a067-255b4f639b3f",
   "metadata": {},
   "outputs": [],
   "source": []
  },
  {
   "cell_type": "code",
   "execution_count": null,
   "id": "766a7a78-9405-42e5-932a-277976b2d496",
   "metadata": {},
   "outputs": [],
   "source": []
  },
  {
   "cell_type": "code",
   "execution_count": null,
   "id": "125ec19b-d0fa-4b23-9c7e-e003a823c231",
   "metadata": {},
   "outputs": [],
   "source": []
  },
  {
   "cell_type": "code",
   "execution_count": null,
   "id": "52812524-9ffd-4b08-9dd2-cd87c5cdc902",
   "metadata": {},
   "outputs": [],
   "source": []
  },
  {
   "cell_type": "code",
   "execution_count": null,
   "id": "951e3bcd-e7d9-4409-a28f-e6b164193f86",
   "metadata": {},
   "outputs": [],
   "source": []
  },
  {
   "cell_type": "code",
   "execution_count": null,
   "id": "eddd0f52-bae4-48e1-98f2-52827e51215e",
   "metadata": {},
   "outputs": [],
   "source": []
  },
  {
   "cell_type": "code",
   "execution_count": null,
   "id": "6e151c71-7353-4a3a-877c-ee3bd0ef8100",
   "metadata": {},
   "outputs": [],
   "source": []
  },
  {
   "cell_type": "code",
   "execution_count": null,
   "id": "cd32f3cc-6901-49b8-b2df-d1bad0828916",
   "metadata": {},
   "outputs": [],
   "source": []
  }
 ],
 "metadata": {
  "kernelspec": {
   "display_name": "Python 3 (ipykernel)",
   "language": "python",
   "name": "python3"
  },
  "language_info": {
   "codemirror_mode": {
    "name": "ipython",
    "version": 3
   },
   "file_extension": ".py",
   "mimetype": "text/x-python",
   "name": "python",
   "nbconvert_exporter": "python",
   "pygments_lexer": "ipython3",
   "version": "3.12.0"
  }
 },
 "nbformat": 4,
 "nbformat_minor": 5
}
